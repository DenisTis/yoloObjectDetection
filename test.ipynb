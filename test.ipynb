{
 "cells": [
  {
   "cell_type": "markdown",
   "metadata": {},
   "source": [
    "https://www.codespeedy.com/yolo-object-detection-from-image-with-opencv-and-python/\n",
    "https://github.com/AlexeyAB/darknet/\n",
    "\n",
    "https://stackoverflow.com/questions/57898577/how-to-reduce-number-of-classes-in-yolov3-files\n",
    "https://pjreddie.com/media/files/yolov3.weights\n",
    "https://towardsdatascience.com/yolo-object-detection-with-opencv-and-python-21e50ac599e9\n",
    "\n",
    "# TODO: check [Open Images Dataset V4](https://arxiv.org/abs/1811.00982)"
   ]
  },
  {
   "cell_type": "code",
   "execution_count": 54,
   "metadata": {},
   "outputs": [],
   "source": [
    "import cv2\n",
    "import numpy as np"
   ]
  },
  {
   "cell_type": "code",
   "execution_count": 55,
   "metadata": {},
   "outputs": [],
   "source": [
    "#Load YOLO Algorithm\n",
    "net=cv2.dnn.readNet(\"yolo/yolov3.weights\",\"yolo/yolov3.cfg\")"
   ]
  },
  {
   "cell_type": "code",
   "execution_count": 56,
   "metadata": {},
   "outputs": [],
   "source": [
    "#To load all objects that have to be detected\n",
    "classes=[]\n",
    "with open(\"yolo/coco.names\",\"r\") as f:\n",
    "    read=f.readlines()\n",
    "for i in range(len(read)):\n",
    "    classes.append(read[i].strip(\"\\n\"))\n",
    "#Defining layer names\n",
    "layer_names=net.getLayerNames()\n",
    "output_layers=[]\n",
    "for i in net.getUnconnectedOutLayers():\n",
    "    output_layers.append(layer_names[i-1])\n",
    "#    output_layers.append(i)"
   ]
  },
  {
   "cell_type": "code",
   "execution_count": 57,
   "metadata": {},
   "outputs": [],
   "source": [
    "\n",
    "#Loading the Image\n",
    "img=cv2.imread(\"image.jpg\")\n",
    "height,width,channels=img.shape"
   ]
  },
  {
   "cell_type": "code",
   "execution_count": 58,
   "metadata": {},
   "outputs": [],
   "source": [
    "\n",
    "#Extracting features to detect objects\n",
    "blob=cv2.dnn.blobFromImage(img,0.00392,(416,416),(0,0,0),True,crop=False)\n",
    "                                                        #Inverting blue with red\n",
    "                                                        #bgr->rgb\n",
    "#We need to pass the img_blob to the algorithm\n",
    "net.setInput(blob)\n",
    "outs=net.forward(output_layers)\n",
    "#print(outs)\n",
    "#Displaying informations on the screen\n",
    "class_ids=[]\n",
    "confidences=[]\n",
    "boxes=[]\n",
    "for output in outs:\n",
    "    for detection in output:\n",
    "        #Detecting confidence in 3 steps\n",
    "        scores=detection[5:]                #1\n",
    "        class_id=np.argmax(scores)          #2\n",
    "        confidence =scores[class_id]        #3\n",
    "        if confidence >0.5: #Means if the object is detected\n",
    "            center_x=int(detection[0]*width)\n",
    "            center_y=int(detection[1]*height)\n",
    "            w=int(detection[2]*width)\n",
    "            h=int(detection[3]*height)\n",
    "            #Drawing a rectangle\n",
    "            x=int(center_x-w/2) # top left value\n",
    "            y=int(center_y-h/2) # top left value\n",
    "            boxes.append([x,y,w,h])\n",
    "            confidences.append(float(confidence))\n",
    "            class_ids.append(class_id)\n",
    "           #cv2.rectangle(img,(x,y),(x+w,y+h),(0,255,0),2)"
   ]
  },
  {
   "cell_type": "code",
   "execution_count": 59,
   "metadata": {},
   "outputs": [],
   "source": [
    "#Removing Double Boxes\n",
    "indexes=cv2.dnn.NMSBoxes(boxes,confidences,0.3,0.4)\n",
    "for i in range(len(boxes)):\n",
    "    if i in indexes:\n",
    "        x, y, w, h = boxes[i]\n",
    "        label = classes[class_ids[i]] # name of the objects\n",
    "        cv2.rectangle(img, (x, y), (x + w, y + h), (0, 255, 0), 1)\n",
    "        cv2.putText(img, label, (x, y), cv2.FONT_HERSHEY_PLAIN, 1, (0, 0, 255), 2)\n",
    "       \n"
   ]
  },
  {
   "cell_type": "code",
   "execution_count": 60,
   "metadata": {},
   "outputs": [],
   "source": [
    "cv2.imshow(\"Output\",img)\n",
    "cv2.waitKey(0)\n",
    "cv2.destroyAllWindows()"
   ]
  }
 ],
 "metadata": {
  "kernelspec": {
   "display_name": "Python 3.10.5 64-bit",
   "language": "python",
   "name": "python3"
  },
  "language_info": {
   "codemirror_mode": {
    "name": "ipython",
    "version": 3
   },
   "file_extension": ".py",
   "mimetype": "text/x-python",
   "name": "python",
   "nbconvert_exporter": "python",
   "pygments_lexer": "ipython3",
   "version": "3.10.5"
  },
  "orig_nbformat": 4,
  "vscode": {
   "interpreter": {
    "hash": "832dd42913f178ae7af2eb7ac4922f1c746b751a87c7d8772df5ec2e8865a21f"
   }
  }
 },
 "nbformat": 4,
 "nbformat_minor": 2
}
